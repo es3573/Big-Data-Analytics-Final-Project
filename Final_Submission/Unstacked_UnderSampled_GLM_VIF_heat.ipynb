{
 "cells": [
  {
   "cell_type": "markdown",
   "metadata": {},
   "source": [
    "Here we try to balance our data before training."
   ]
  },
  {
   "cell_type": "code",
   "execution_count": 1,
   "metadata": {},
   "outputs": [],
   "source": [
    "# tell jupyter where pyspark is\n",
    "import findspark\n",
    "findspark.init()\n",
    "import xgboost as xgb"
   ]
  },
  {
   "cell_type": "code",
   "execution_count": 2,
   "metadata": {},
   "outputs": [],
   "source": [
    "# Import useful stuff\n",
    "from pyspark.sql import SparkSession\n",
    "import pandas as pd\n",
    "import numpy as np\n",
    "import matplotlib.pyplot as plt\n",
    "\n",
    "# Import Models and support\n",
    "from pyspark.sql.functions import col, avg\n",
    "from pyspark.ml.feature import VectorAssembler\n",
    "from pyspark.ml.evaluation import MulticlassClassificationEvaluator\n",
    "\n",
    "from pyspark.ml.classification import LogisticRegression\n",
    "from pyspark.ml.classification import LinearSVC\n",
    "from pyspark.ml.classification import GBTClassifier\n",
    "from pyspark.ml.classification import DecisionTreeClassifier\n",
    "from pyspark.ml.classification import RandomForestClassifier\n",
    "\n",
    "from pyspark.ml.classification import MultilayerPerceptronClassifier"
   ]
  },
  {
   "cell_type": "code",
   "execution_count": 3,
   "metadata": {},
   "outputs": [],
   "source": [
    "# Build a SparkSession; \n",
    "spark = SparkSession\\\n",
    "    .builder\\\n",
    "    .appName(\"Final Project\")\\\n",
    "    .getOrCreate()"
   ]
  },
  {
   "cell_type": "code",
   "execution_count": 4,
   "metadata": {},
   "outputs": [],
   "source": [
    "# Load preprocessed dataset \n",
    "df = spark.read.csv(\"data/Final_Data.csv\",inferSchema =True,header=True)\n",
    "df = df.drop('Unnamed: 0','_c0')\n",
    "n_features = len(df.columns) - 1 "
   ]
  },
  {
   "cell_type": "code",
   "execution_count": 5,
   "metadata": {},
   "outputs": [],
   "source": [
    "# Create a feature vector from the data\n",
    "ignore = ['loan_status']\n",
    "assembler = VectorAssembler(\n",
    "    inputCols=[x for x in df.columns if x not in ignore],\n",
    "    outputCol='features')\n",
    "\n",
    "df = assembler.transform(df)\n",
    "df = df.select(['loan_status','features'])"
   ]
  },
  {
   "cell_type": "code",
   "execution_count": 6,
   "metadata": {},
   "outputs": [],
   "source": [
    "# Undersampling to balance data better since only 7% of the data is 'bad loan'\n",
    "ratio = df.filter(df.loan_status == 0).count() / df.filter(df.loan_status == 1).count()\n",
    "df = df.sampleBy('loan_status', fractions={0: 1, 1: ratio}, seed=1234)"
   ]
  },
  {
   "cell_type": "code",
   "execution_count": 7,
   "metadata": {},
   "outputs": [],
   "source": [
    "# Let's first split into a test and training set\n",
    "(trainingData, testData) = df.randomSplit([0.8, 0.2])"
   ]
  },
  {
   "cell_type": "code",
   "execution_count": 8,
   "metadata": {},
   "outputs": [],
   "source": [
    "# Now let's create all our models (Logistic Regression, GBT, Linear SVC, and MLP)\n",
    "lr = LogisticRegression(maxIter=10, regParam=0.1, elasticNetParam=0.8,\\\n",
    "                        labelCol = 'loan_status', featuresCol = 'features')\n",
    "\n",
    "dt = DecisionTreeClassifier(labelCol='loan_status', featuresCol=\"features\")\n",
    "\n",
    "rf = RandomForestClassifier(numTrees=10,\\\n",
    "                            labelCol=\"loan_status\", featuresCol=\"features\")\n",
    "\n",
    "gbt = GBTClassifier(maxIter=10,\\\n",
    "                    labelCol = 'loan_status', featuresCol = 'features')\n",
    "\n",
    "lsvc = LinearSVC(maxIter=10, regParam=0.1,\\\n",
    "                 labelCol = 'loan_status', featuresCol = 'features')\n",
    "\n",
    "mlp = MultilayerPerceptronClassifier(maxIter=100, layers=[n_features, 5, 4, 2], blockSize=128,seed=1234,\\\n",
    "                                     labelCol = 'loan_status', featuresCol = 'features')"
   ]
  },
  {
   "cell_type": "code",
   "execution_count": 9,
   "metadata": {},
   "outputs": [
    {
     "name": "stdout",
     "output_type": "stream",
     "text": [
      "Logistic Regression training complete\n",
      "Decision Tree training complete\n",
      "Random Forest training complete\n",
      "Gradient Boosted training complete\n",
      "Linear SVC training complete\n",
      "Multi-layer Perceptron training complete\n"
     ]
    }
   ],
   "source": [
    "# Train all the models\n",
    "lr_model = lr.fit(trainingData)\n",
    "print('Logistic Regression training complete')\n",
    "\n",
    "dt_model = dt.fit(trainingData)\n",
    "print('Decision Tree training complete')\n",
    "\n",
    "rf_model = rf.fit(trainingData)\n",
    "print('Random Forest training complete')\n",
    "\n",
    "gbt_model = gbt.fit(trainingData)\n",
    "print('Gradient Boosted training complete')\n",
    "\n",
    "lsvc_model = lsvc.fit(trainingData)\n",
    "print('Linear SVC training complete')\n",
    "\n",
    "mlp_model = mlp.fit(trainingData)\n",
    "print('Multi-layer Perceptron training complete')"
   ]
  },
  {
   "cell_type": "code",
   "execution_count": 10,
   "metadata": {},
   "outputs": [],
   "source": [
    "# Make predictions with all the models\n",
    "lr_predictions = lr_model.transform(testData)\n",
    "dt_predictions = dt_model.transform(testData)\n",
    "rf_predictions = rf_model.transform(testData)\n",
    "gbt_predictions = gbt_model.transform(testData)\n",
    "lsvc_predictions = lsvc_model.transform(testData)\n",
    "mlp_predictions = mlp_model.transform(testData)"
   ]
  },
  {
   "cell_type": "code",
   "execution_count": 11,
   "metadata": {},
   "outputs": [
    {
     "name": "stdout",
     "output_type": "stream",
     "text": [
      "Logistic Regression Test Error = 0.259466\n",
      "Decision Tree Test Error = 0.179072\n",
      "Random Forest Test Error = 0.183329\n",
      "Gradient Boosted Test Error = 0.178302\n",
      "Linear SVC Test Error = 0.236358\n",
      "Multi-layer Perceptron Test Error = 0.200357\n"
     ]
    }
   ],
   "source": [
    "# Compute test error\n",
    "evaluator = MulticlassClassificationEvaluator(\n",
    "    labelCol='loan_status', predictionCol=\"prediction\", metricName=\"accuracy\")\n",
    "\n",
    "lr_accuracy = evaluator.evaluate(lr_predictions)\n",
    "print(\"Logistic Regression Test Error = %g\" % (1.0 - lr_accuracy))\n",
    "\n",
    "dt_accuracy = evaluator.evaluate(dt_predictions)\n",
    "print(\"Decision Tree Test Error = %g\" % (1.0 - dt_accuracy))\n",
    "\n",
    "rf_accuracy = evaluator.evaluate(rf_predictions)\n",
    "print(\"Random Forest Test Error = %g\" % (1.0 - rf_accuracy))\n",
    "\n",
    "gbt_accuracy = evaluator.evaluate(gbt_predictions)\n",
    "print(\"Gradient Boosted Test Error = %g\" % (1.0 - gbt_accuracy))\n",
    "\n",
    "lsvc_accuracy = evaluator.evaluate(lsvc_predictions)\n",
    "print(\"Linear SVC Test Error = %g\" % (1.0 - lsvc_accuracy))\n",
    "\n",
    "mlp_accuracy = evaluator.evaluate(mlp_predictions)\n",
    "print(\"Multi-layer Perceptron Test Error = %g\" % (1.0 - mlp_accuracy))"
   ]
  },
  {
   "cell_type": "code",
   "execution_count": 12,
   "metadata": {},
   "outputs": [
    {
     "name": "stdout",
     "output_type": "stream",
     "text": [
      "Logistic Regression F1 Score = 0.740164\n",
      "Decision Tree F1 Score = 0.819277\n",
      "Random Forest F1 Score = 0.814879\n",
      "Gradient Boosted F1 Score = 0.820004\n",
      "Linear SVC F1 Score = 0.763425\n",
      "Multi-layer Perceptron F1 Score = 0.796851\n"
     ]
    }
   ],
   "source": [
    "# Compute f1 score\n",
    "f1_evaluator = MulticlassClassificationEvaluator(\n",
    "    labelCol='loan_status', predictionCol=\"prediction\", metricName=\"f1\")\n",
    "\n",
    "lr_f1 = f1_evaluator.evaluate(lr_predictions)\n",
    "print(\"Logistic Regression F1 Score = %g\" % lr_f1)\n",
    "\n",
    "dt_f1 = f1_evaluator.evaluate(dt_predictions)\n",
    "print(\"Decision Tree F1 Score = %g\" % dt_f1)\n",
    "\n",
    "rf_f1 = f1_evaluator.evaluate(rf_predictions)\n",
    "print(\"Random Forest F1 Score = %g\" % rf_f1)\n",
    "\n",
    "gbt_f1 = f1_evaluator.evaluate(gbt_predictions)\n",
    "print(\"Gradient Boosted F1 Score = %g\" % gbt_f1)\n",
    "\n",
    "lsvc_f1 = f1_evaluator.evaluate(lsvc_predictions)\n",
    "print(\"Linear SVC F1 Score = %g\" % lsvc_f1)\n",
    "\n",
    "mlp_f1 = f1_evaluator.evaluate(mlp_predictions)\n",
    "print(\"Multi-layer Perceptron F1 Score = %g\" % mlp_f1)"
   ]
  },
  {
   "cell_type": "code",
   "execution_count": 13,
   "metadata": {},
   "outputs": [
    {
     "name": "stdout",
     "output_type": "stream",
     "text": [
      "Logistic Regression AUC Score = 0.740965\n",
      "Decision Tree AUC Score = 0.819947\n",
      "Random Forest AUC Score = 0.81566\n",
      "Gradient Boosted AUC Score = 0.820703\n",
      "Linear SVC AUC Score = 0.763999\n",
      "Multi-layer Perceptron AUC Score = 0.798431\n"
     ]
    }
   ],
   "source": [
    "# Compute AUC score\n",
    "from pyspark.ml.evaluation import BinaryClassificationEvaluator\n",
    "# Compute auc score\n",
    "auc_evaluator = BinaryClassificationEvaluator(\n",
    "    labelCol='loan_status', rawPredictionCol=\"prediction\", metricName=\"areaUnderROC\")\n",
    "\n",
    "lr_auc = auc_evaluator.evaluate(lr_predictions)\n",
    "print(\"Logistic Regression AUC Score = %g\" % lr_auc)\n",
    "\n",
    "dt_auc = auc_evaluator.evaluate(dt_predictions)\n",
    "print(\"Decision Tree AUC Score = %g\" % dt_auc)\n",
    "\n",
    "rf_auc = auc_evaluator.evaluate(rf_predictions)\n",
    "print(\"Random Forest AUC Score = %g\" % rf_auc)\n",
    "\n",
    "gbt_auc = auc_evaluator.evaluate(gbt_predictions)\n",
    "print(\"Gradient Boosted AUC Score = %g\" % gbt_auc)\n",
    "\n",
    "lsvc_auc = auc_evaluator.evaluate(lsvc_predictions)\n",
    "print(\"Linear SVC AUC Score = %g\" % lsvc_auc)\n",
    "\n",
    "mlp_auc = auc_evaluator.evaluate(mlp_predictions)\n",
    "print(\"Multi-layer Perceptron AUC Score = %g\" % mlp_auc)"
   ]
  },
  {
   "cell_type": "code",
   "execution_count": 14,
   "metadata": {},
   "outputs": [],
   "source": [
    "# Feature importances (only for tree models)\n",
    "dt_features = dt_model.featureImportances\n",
    "rf_features = rf_model.featureImportances\n",
    "gbt_features = gbt_model.featureImportances"
   ]
  },
  {
   "cell_type": "code",
   "execution_count": 15,
   "metadata": {},
   "outputs": [
    {
     "name": "stdout",
     "output_type": "stream",
     "text": [
      "['term', 'grade', 'annual_inc', 'verification_status', 'purpose', 'delinq_2yrs', 'inq_last_6mths', 'pub_rec', 'revol_bal', 'initial_list_status', 'out_prncp', 'total_rec_int', 'total_rec_late_fee', 'last_pymnt_amnt', 'mths_since_last_major_derog', 'application_type']\n"
     ]
    }
   ],
   "source": [
    "# Getting our features for visualization\n",
    "features_df = spark.read.csv(\"data/Final_Data.csv\",inferSchema =True,header=True)\n",
    "features_df = features_df.drop('Unnamed: 0','_c0', 'loan_status')\n",
    "feature_list = features_df.columns\n",
    "print(feature_list)"
   ]
  },
  {
   "cell_type": "code",
   "execution_count": 16,
   "metadata": {},
   "outputs": [],
   "source": [
    "# Plotting feature importance\n",
    "def f_importances(coef, names, title):\n",
    "    plt.figure(figsize=(10,10))\n",
    "    imp = coef\n",
    "    imp,names = zip(*sorted(zip(imp,names)))\n",
    "    plt.barh(range(len(names)), imp, align='center')\n",
    "    plt.yticks(range(len(names)), names)\n",
    "    plt.title(title)"
   ]
  },
  {
   "cell_type": "code",
   "execution_count": 17,
   "metadata": {},
   "outputs": [
    {
     "data": {
      "text/plain": [
       "<matplotlib.figure.Figure at 0x7f8c24bf4cc0>"
      ]
     },
     "metadata": {},
     "output_type": "display_data"
    },
    {
     "data": {
      "image/png": "[encoded data removed]",
      "text/plain": [
       "<matplotlib.figure.Figure at 0x7f8c24bf4c50>"
      ]
     },
     "metadata": {},
     "output_type": "display_data"
    },
    {
     "data": {
      "image/png": "[encoded data removed]",
      "text/plain": [
       "<matplotlib.figure.Figure at 0x7f8c24e315f8>"
      ]
     },
     "metadata": {},
     "output_type": "display_data"
    },
    {
     "data": {
      "image/png": "[encoded data removed]",
      "text/plain": [
       "<matplotlib.figure.Figure at 0x7f8c24b28b00>"
      ]
     },
     "metadata": {},
     "output_type": "display_data"
    }
   ],
   "source": [
    "plt.figure(figsize=(50,20))\n",
    "f_importances(dt_features, feature_list, 'Decision Trees')\n",
    "f_importances(rf_features, feature_list, 'Random Forests')\n",
    "f_importances(gbt_features, feature_list, 'Gradient Boosted Trees')"
   ]
  },
  {
   "cell_type": "code",
   "execution_count": null,
   "metadata": {},
   "outputs": [],
   "source": []
  }
 ],
 "metadata": {
  "kernelspec": {
   "display_name": "Python 3",
   "language": "python",
   "name": "python3"
  },
  "language_info": {
   "codemirror_mode": {
    "name": "ipython",
    "version": 3
   },
   "file_extension": ".py",
   "mimetype": "text/x-python",
   "name": "python",
   "nbconvert_exporter": "python",
   "pygments_lexer": "ipython3",
   "version": "3.6.4"
  }
 },
 "nbformat": 4,
 "nbformat_minor": 2
}
