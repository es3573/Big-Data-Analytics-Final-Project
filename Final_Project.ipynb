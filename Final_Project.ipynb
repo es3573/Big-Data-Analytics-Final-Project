{
 "cells": [
  {
   "cell_type": "code",
   "execution_count": 1,
   "metadata": {},
   "outputs": [],
   "source": [
    "# tell jupyter where pyspark is\n",
    "import findspark\n",
    "findspark.init()"
   ]
  },
  {
   "cell_type": "code",
   "execution_count": 2,
   "metadata": {},
   "outputs": [],
   "source": [
    "# import helper packages\n",
    "from pyspark.ml import Pipeline\n",
    "from pyspark.ml.feature import Tokenizer, RegexTokenizer\n",
    "from pyspark.sql.functions import col, udf\n",
    "from pyspark.sql.types import IntegerType\n",
    "from pyspark.ml.feature import StopWordsRemover\n",
    "from pyspark.ml.feature import HashingTF, IDF\n",
    "from pyspark.sql.functions import lit\n",
    "from pyspark.sql import SparkSession\n",
    "from pyspark.mllib.linalg import SparseVector\n",
    "import pandas as pd\n",
    "import numpy as np"
   ]
  },
  {
   "cell_type": "code",
   "execution_count": 3,
   "metadata": {},
   "outputs": [],
   "source": [
    "# Build a SparkSession; \n",
    "spark = SparkSession\\\n",
    "    .builder\\\n",
    "    .appName(\"Final Project\")\\\n",
    "    .getOrCreate()"
   ]
  },
  {
   "cell_type": "markdown",
   "metadata": {},
   "source": [
    "This pipeline is for qualitative features if neccessary."
   ]
  },
  {
   "cell_type": "code",
   "execution_count": 4,
   "metadata": {},
   "outputs": [],
   "source": [
    "# Tokenization\n",
    "regexTokenizer = RegexTokenizer(inputCol=\"text\", outputCol=\"words\",\\\n",
    "                                pattern=\"[^A-Za-z]+\", toLowercase=True)\n",
    "\n",
    "# Stop Word Removal\n",
    "stopWordsRemover = StopWordsRemover(inputCol=\"words\", outputCol=\"filtered_words\")\n",
    "\n",
    "# Vectorization\n",
    "hashingTF = HashingTF(inputCol=\"filtered_words\",\\\n",
    "                      outputCol=\"raw_features\", numFeatures=20)\n",
    "\n",
    "# Normalization\n",
    "idf= IDF(inputCol=\"raw_features\", outputCol=\"features\")\n",
    "\n",
    "pipeline = Pipeline(stages=[regexTokenizer, stopWordsRemover, hashingTF, idf])"
   ]
  },
  {
   "cell_type": "markdown",
   "metadata": {},
   "source": [
    "We first load the data and split into 'string' and 'numeric' dataFrames. The 'string' dataFrame will be further split between categorical features and descriptors. This split is determined by inspection using the LCDataDictionary file. \n",
    "\n",
    "In order to use the training algorithms, we need to have all the features be numeric. To do this we apply StringIndexing and Vectorization on the categorical and descriptor features, respectively. \n",
    "\n",
    "After all the features are numeric, we can merge them back with the numeric dataFrame for final steps in preprocessing."
   ]
  },
  {
   "cell_type": "code",
   "execution_count": 5,
   "metadata": {},
   "outputs": [
    {
     "name": "stderr",
     "output_type": "stream",
     "text": [
      "/home/erik_r_su/anaconda3/lib/python3.6/site-packages/IPython/core/interactiveshell.py:2728: DtypeWarning: Columns (19,55) have mixed types. Specify dtype option on import or set low_memory=False.\n",
      "  interactivity=interactivity, compiler=compiler, result=result)\n"
     ]
    }
   ],
   "source": [
    "# Load dataset first as a pandas DF due to schema errors\n",
    "data = pd.read_csv('data/loan.csv')\n",
    "\n",
    "# split according to datatypes (numeric vs string)\n",
    "numeric_pd = data.select_dtypes(include='number')\n",
    "string_pd = data.select_dtypes(exclude='number')"
   ]
  },
  {
   "cell_type": "code",
   "execution_count": 10,
   "metadata": {},
   "outputs": [],
   "source": [
    "# convert to Spark DataFrame for easier indexing\n",
    "from pyspark.sql import SQLContext\n",
    "sqlContext = SQLContext(spark)\n",
    "\n",
    "numeric_df = sqlContext.createDataFrame(numeric_pd[0:100])\n",
    "string_df = sqlContext.createDataFrame(string_pd[0:100].astype('str'))"
   ]
  },
  {
   "cell_type": "markdown",
   "metadata": {},
   "source": [
    "Now we need to split the string dataframe into categorical and descriptor features by inspection.\n",
    "\n",
    "It is unclear what dates would be considered for this instance. For now we will also separate datetime features from the 'string' features.\n",
    "\n",
    "Categorical features:\n",
    "1. term\n",
    "2. grade\n",
    "3. sub_grade\n",
    "4. emp_length\n",
    "5. home_ownership\n",
    "6. verification_status\n",
    "7. loan_status ( this is our desired prediction )\n",
    "8. pymnt_plan\n",
    "9. purpose\n",
    "10. zip_code\n",
    "11. addr_state\n",
    "12. initial_list_status\n",
    "13. application_type\n",
    "14. verification_status_joint\n",
    "\n",
    "Date features:\n",
    "1. issue_d\n",
    "2. earliest_cr_line\n",
    "3. last_pymnt_d\n",
    "4. next_pymnt_d\n",
    "5. last_credit_pull_d\n",
    "\n",
    "Descriptor features:\n",
    "1. emp_title\n",
    "2. url\n",
    "3. desc\n",
    "4. title\n",
    "\n",
    "Now that we have split these by inspection, we split the 'string' dataFrame accordingly. "
   ]
  },
  {
   "cell_type": "code",
   "execution_count": 37,
   "metadata": {},
   "outputs": [],
   "source": [
    "# Split string_df by inspection\n",
    "categorical_cols = ('term', 'grade', 'sub_grade', 'emp_length', 'home_ownership',\\\n",
    "                    'verification_status','loan_status', 'pymnt_plan', 'purpose',\\\n",
    "                    'zip_code', 'addr_state', 'initial_list_status','application_type',\\\n",
    "                    'verification_status_joint')\n",
    "\n",
    "datetime_cols = ('issue_d', 'earliest_cr_line', 'last_pymnt_d', 'next_pymnt_d', 'last_credit_pull_d')\n",
    "\n",
    "descript_cols = ('emp_title', 'url', 'desc', 'title')\n",
    "\n",
    "\n",
    "categorical_df = string_df.select(*categorical_cols)\n",
    "datetime_df = string_df.select(*datetime_cols)\n",
    "descriptor_df = string_df.select(*descript_cols)"
   ]
  },
  {
   "cell_type": "code",
   "execution_count": 47,
   "metadata": {},
   "outputs": [],
   "source": [
    "# We can use StringIndexer for categorical features\n",
    "# By inspection we can see that the following are considered categorical features:\n",
    "\n",
    "# 'term', 'grade', 'sub_grade', 'home_ownership', 'verification_status', 'loan_status'\n",
    "# 'pymnt_plan', 'purpose', \n",
    "\n",
    "# Note that in this version of Spark, the labels are generated based off freq (label 0 = most frequent)\n",
    "from pyspark.ml import Pipeline\n",
    "from pyspark.ml.feature import StringIndexer\n",
    "\n",
    "indexers = [StringIndexer(inputCol=column, outputCol=column+\"_index\").fit(categorical_df) for column in categorical_df.columns]\n",
    "\n",
    "\n",
    "pipeline = Pipeline(stages=indexers)\n",
    "df_r = pipeline.fit(categorical_df).transform(categorical_df)\n",
    "categorical_indexed_df = df_r.drop(*categorical_cols)"
   ]
  },
  {
   "cell_type": "code",
   "execution_count": 51,
   "metadata": {},
   "outputs": [
    {
     "name": "stdout",
     "output_type": "stream",
     "text": [
      "+-----------------+\n",
      "|loan_status_index|\n",
      "+-----------------+\n",
      "|              0.0|\n",
      "|              1.0|\n",
      "|              0.0|\n",
      "|              0.0|\n",
      "|              2.0|\n",
      "+-----------------+\n",
      "only showing top 5 rows\n",
      "\n",
      "+-----------+\n",
      "|loan_status|\n",
      "+-----------+\n",
      "| Fully Paid|\n",
      "|Charged Off|\n",
      "| Fully Paid|\n",
      "| Fully Paid|\n",
      "|    Current|\n",
      "+-----------+\n",
      "only showing top 5 rows\n",
      "\n"
     ]
    }
   ],
   "source": [
    "categorical_indexed_df.select('loan_status_index').show(5)\n",
    "categorical_df.select('loan_status').show(5)"
   ]
  },
  {
   "cell_type": "markdown",
   "metadata": {},
   "source": [
    "Gradient-boosted tree classifier"
   ]
  },
  {
   "cell_type": "code",
   "execution_count": null,
   "metadata": {},
   "outputs": [],
   "source": [
    "from pyspark.ml import Pipeline\n",
    "from pyspark.ml.classification import GBTClassifier\n",
    "from pyspark.ml.feature import StringIndexer, VectorIndexer\n",
    "from pyspark.ml.evaluation import MulticlassClassificationEvaluator\n",
    "\n",
    "# Index labels, adding metadata to the label column.\n",
    "# Fit on whole dataset to include all labels in index.\n",
    "labelIndexer = StringIndexer(inputCol=\"label\", outputCol=\"indexedLabel\").fit(data)\n",
    "# Automatically identify categorical features, and index them.\n",
    "# Set maxCategories so features with > 4 distinct values are treated as continuous.\n",
    "featureIndexer =\\\n",
    "    VectorIndexer(inputCol=\"features\", outputCol=\"indexedFeatures\", maxCategories=4).fit(data)\n",
    "\n",
    "# Split the data into training and test sets (30% held out for testing)\n",
    "(trainingData, testData) = data.randomSplit([0.7, 0.3])\n",
    "\n",
    "# Train a GBT model.\n",
    "gbt = GBTClassifier(labelCol=\"indexedLabel\", featuresCol=\"indexedFeatures\", maxIter=10)\n",
    "\n",
    "# Chain indexers and GBT in a Pipeline\n",
    "pipeline = Pipeline(stages=[labelIndexer, featureIndexer, gbt])\n",
    "\n",
    "# Train model.  This also runs the indexers.\n",
    "model = pipeline.fit(trainingData)\n",
    "\n",
    "# Make predictions.\n",
    "predictions = model.transform(testData)\n",
    "\n",
    "# Select example rows to display.\n",
    "predictions.select(\"prediction\", \"indexedLabel\", \"features\").show(5)\n",
    "\n",
    "# Select (prediction, true label) and compute test error\n",
    "evaluator = MulticlassClassificationEvaluator(\n",
    "    labelCol=\"indexedLabel\", predictionCol=\"prediction\", metricName=\"accuracy\")\n",
    "accuracy = evaluator.evaluate(predictions)\n",
    "print(\"Test Error = %g\" % (1.0 - accuracy))\n",
    "\n",
    "gbtModel = model.stages[2]\n",
    "print(gbtModel)  # summary only"
   ]
  }
 ],
 "metadata": {
  "kernelspec": {
   "display_name": "Python 3",
   "language": "python",
   "name": "python3"
  },
  "language_info": {
   "codemirror_mode": {
    "name": "ipython",
    "version": 3
   },
   "file_extension": ".py",
   "mimetype": "text/x-python",
   "name": "python",
   "nbconvert_exporter": "python",
   "pygments_lexer": "ipython3",
   "version": "3.6.4"
  }
 },
 "nbformat": 4,
 "nbformat_minor": 2
}
